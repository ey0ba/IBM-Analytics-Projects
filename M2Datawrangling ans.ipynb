{
 "cells": [
  {
   "cell_type": "code",
   "execution_count": null,
   "id": "cc3b8b0a-7764-4c58-827d-c017b26cad63",
   "metadata": {},
   "outputs": [],
   "source": [
    "#Import pandas module.\n",
    "\n",
    "import pandas as pd"
   ]
  },
  {
   "cell_type": "code",
   "execution_count": null,
   "id": "d2c3bdba-eac6-49f2-be3e-9c71389149be",
   "metadata": {},
   "outputs": [],
   "source": [
    "import pandas as pd"
   ]
  },
  {
   "cell_type": "code",
   "execution_count": null,
   "id": "15156106-26fe-4d06-b388-7ee5215c8c4c",
   "metadata": {},
   "outputs": [],
   "source": [
    "#Load the dataset into a dataframe."
   ]
  },
  {
   "cell_type": "code",
   "execution_count": null,
   "id": "23a159ef-f0e2-4408-8a43-45e67f35905e",
   "metadata": {},
   "outputs": [],
   "source": [
    "df = pd.read_csv(\"https://cf-courses-data.s3.us.cloud-object-storage.appdomain.cloud/IBM-DA0321EN-SkillsNetwork/LargeData/m1_survey_data.csv\")"
   ]
  },
  {
   "cell_type": "code",
   "execution_count": null,
   "id": "5ed0c3ee-eef0-4e55-b910-489c71737596",
   "metadata": {},
   "outputs": [],
   "source": [
    "#Find how many duplicate rows exist in the dataframe."
   ]
  },
  {
   "cell_type": "code",
   "execution_count": null,
   "id": "1a32b6f4-e4a4-40fc-b890-7b2213433d34",
   "metadata": {},
   "outputs": [
    {
     "data": {
      "text/plain": [
       "154"
      ]
     },
     "execution_count": 27,
     "metadata": {},
     "output_type": "execute_result"
    }
   ],
   "source": [
    "df.duplicated().sum()"
   ]
  },
  {
   "cell_type": "code",
   "execution_count": null,
   "id": "f051e886-9928-4450-bdf2-412b8ad9e5a4",
   "metadata": {},
   "outputs": [],
   "source": [
    "#Remove the duplicate rows from the dataframe."
   ]
  },
  {
   "cell_type": "code",
   "execution_count": null,
   "id": "dd8b70d5-32d2-40d4-94f1-77c398635cb7",
   "metadata": {},
   "outputs": [],
   "source": [
    "cleaned_df = df.drop_duplicates()"
   ]
  },
  {
   "cell_type": "code",
   "execution_count": null,
   "id": "fd8d6c85-d6ba-46a4-9a11-1442ff46c874",
   "metadata": {},
   "outputs": [],
   "source": [
    "#Verify if duplicates were actually dropped."
   ]
  },
  {
   "cell_type": "code",
   "execution_count": null,
   "id": "dcee75ad-4f06-4611-beed-c13e647d5d73",
   "metadata": {},
   "outputs": [
    {
     "name": "stdout",
     "output_type": "stream",
     "text": [
      "Number of duplicate rows removed: 154\n"
     ]
    }
   ],
   "source": [
    "print(\"Number of duplicate rows removed:\", len(df) - len(cleaned_df))"
   ]
  },
  {
   "cell_type": "code",
   "execution_count": null,
   "id": "73a5458c-9349-4676-80d0-e3ab011bc768",
   "metadata": {},
   "outputs": [],
   "source": [
    "#Find the missing values for all columns."
   ]
  },
  {
   "cell_type": "code",
   "execution_count": null,
   "id": "6c8e06a7-e67b-449e-accb-996c5083b97b",
   "metadata": {},
   "outputs": [
    {
     "data": {
      "text/plain": [
       "Respondent        0\n",
       "MainBranch        0\n",
       "Hobbyist          0\n",
       "OpenSourcer       0\n",
       "OpenSource       81\n",
       "               ... \n",
       "Sexuality       547\n",
       "Ethnicity       683\n",
       "Dependents      144\n",
       "SurveyLength     19\n",
       "SurveyEase       14\n",
       "Length: 85, dtype: int64"
      ]
     },
     "execution_count": 33,
     "metadata": {},
     "output_type": "execute_result"
    }
   ],
   "source": [
    "df.isnull().sum()"
   ]
  },
  {
   "cell_type": "code",
   "execution_count": null,
   "id": "8e729199-6f29-4ee0-8210-7f6fc8a55b41",
   "metadata": {},
   "outputs": [],
   "source": [
    "#Find out how many rows are missing in the column 'WorkLoc'"
   ]
  },
  {
   "cell_type": "code",
   "execution_count": null,
   "id": "ca09a818-e6dc-46e4-804d-ceb5f8c4b53b",
   "metadata": {},
   "outputs": [
    {
     "data": {
      "text/plain": [
       "32"
      ]
     },
     "execution_count": 35,
     "metadata": {},
     "output_type": "execute_result"
    }
   ],
   "source": [
    "df['WorkLoc'].isnull().sum()"
   ]
  },
  {
   "cell_type": "code",
   "execution_count": null,
   "id": "2064cb38-e681-4f68-bdb8-84cb7fc2134b",
   "metadata": {},
   "outputs": [],
   "source": [
    "#Find the  value counts for the column WorkLoc."
   ]
  },
  {
   "cell_type": "code",
   "execution_count": null,
   "id": "847a4c73-5464-495c-b9f9-239e6793a6f2",
   "metadata": {},
   "outputs": [
    {
     "data": {
      "text/plain": [
       "WorkLoc\n",
       "Office                                            6905\n",
       "Home                                              3638\n",
       "Other place, such as a coworking space or cafe     977\n",
       "Name: count, dtype: int64"
      ]
     },
     "execution_count": 37,
     "metadata": {},
     "output_type": "execute_result"
    }
   ],
   "source": [
    "df['WorkLoc'].value_counts()"
   ]
  },
  {
   "cell_type": "code",
   "execution_count": null,
   "id": "5dc9a66a-4736-4210-a05b-3bb761445808",
   "metadata": {},
   "outputs": [],
   "source": [
    "#Identify the value that is most frequent (majority) in the WorkLoc column."
   ]
  },
  {
   "cell_type": "code",
   "execution_count": null,
   "id": "92dff122-9a50-4f6a-9dc8-875b9384002a",
   "metadata": {},
   "outputs": [],
   "source": [
    "workloc_value_counts = df['WorkLoc'].value_counts()"
   ]
  },
  {
   "cell_type": "code",
   "execution_count": null,
   "id": "e2b5a8c7-0efc-443b-9d17-9909bad86e9d",
   "metadata": {},
   "outputs": [],
   "source": [
    "most_frequent_workloc = workloc_value_counts.idxmax()"
   ]
  },
  {
   "cell_type": "code",
   "execution_count": null,
   "id": "e99b11cd-63d2-4504-8889-3d7643dde81a",
   "metadata": {},
   "outputs": [
    {
     "name": "stdout",
     "output_type": "stream",
     "text": [
      "Office\n"
     ]
    }
   ],
   "source": [
    "print(most_frequent_workloc)"
   ]
  },
  {
   "cell_type": "code",
   "execution_count": null,
   "id": "d77c2044-3af7-43f8-af43-c92989cf44dd",
   "metadata": {},
   "outputs": [],
   "source": [
    "#Impute (replace) all the empty rows in the column WorkLoc with the value that you have identified as majority."
   ]
  },
  {
   "cell_type": "code",
   "execution_count": null,
   "id": "9c015590-cfb0-467b-9926-01ed61c2ec7a",
   "metadata": {},
   "outputs": [],
   "source": [
    "df['WorkLoc'].fillna(most_frequent_workloc, inplace=True)"
   ]
  },
  {
   "cell_type": "code",
   "execution_count": null,
   "id": "c1a5271a-1c8a-4e69-86f2-525a225e84e4",
   "metadata": {},
   "outputs": [],
   "source": [
    "#Verify if imputing was successful."
   ]
  },
  {
   "cell_type": "code",
   "execution_count": null,
   "id": "d32b6307-593c-4467-ac8e-398a61b7e605",
   "metadata": {},
   "outputs": [
    {
     "data": {
      "text/plain": [
       "0"
      ]
     },
     "execution_count": 45,
     "metadata": {},
     "output_type": "execute_result"
    }
   ],
   "source": [
    "df['WorkLoc'].isnull().sum()"
   ]
  },
  {
   "cell_type": "code",
   "execution_count": null,
   "id": "8033abf7-7832-431c-862a-e71d1fa7bc7c",
   "metadata": {},
   "outputs": [],
   "source": [
    "#List out the various categories in the column 'CompFreq'"
   ]
  },
  {
   "cell_type": "code",
   "execution_count": null,
   "id": "fffe05f6-b1f6-47bf-af5b-3d123fbca371",
   "metadata": {},
   "outputs": [
    {
     "data": {
      "text/plain": [
       "array(['Yearly', 'Monthly', 'Weekly', nan], dtype=object)"
      ]
     },
     "execution_count": 47,
     "metadata": {},
     "output_type": "execute_result"
    }
   ],
   "source": [
    "df['CompFreq'].unique()"
   ]
  },
  {
   "cell_type": "code",
   "execution_count": null,
   "id": "c8036f7d-d1b9-4243-b0bf-b11c94ffd269",
   "metadata": {},
   "outputs": [],
   "source": [
    "#Create a new column named 'NormalizedAnnualCompensation'."
   ]
  },
  {
   "cell_type": "code",
   "execution_count": null,
   "id": "9a6cb37d-9677-4042-95cf-fdb1dd281e14",
   "metadata": {},
   "outputs": [],
   "source": [
    "df['NormalizedAnnualCompensation'] = None"
   ]
  },
  {
   "cell_type": "code",
   "execution_count": null,
   "id": "fc03ff14-f277-4fd3-b41a-aadc045a3b37",
   "metadata": {},
   "outputs": [],
   "source": [
    "#Logic to arrive at the values for the column NormalizedAnnualCompensation"
   ]
  },
  {
   "cell_type": "code",
   "execution_count": null,
   "id": "84ebf3c4-affa-4feb-9091-1f87194f62bb",
   "metadata": {},
   "outputs": [],
   "source": [
    "def calculate_annual_compensation(row):\n",
    "    if row['CompFreq'] == 'Yearly':\n",
    "        return row['CompTotal']\n",
    "    elif row['CompFreq'] == 'Monthly':\n",
    "        return row['CompTotal'] * 12\n",
    "    elif row['CompFreq'] == 'Weekly':\n",
    "        return row['CompTotal'] * 52\n",
    "    else:\n",
    "        return None"
   ]
  },
  {
   "cell_type": "code",
   "execution_count": null,
   "id": "f5daa453-a331-4cd1-8c52-161f432170ac",
   "metadata": {},
   "outputs": [],
   "source": [
    "#Fill the columns"
   ]
  },
  {
   "cell_type": "code",
   "execution_count": null,
   "id": "540de028-0ef4-48ce-86b2-e336b1f86aaf",
   "metadata": {},
   "outputs": [],
   "source": [
    "df['NormalizedAnnualCompensation'] = df.apply(calculate_annual_compensation, axis=1)"
   ]
  },
  {
   "cell_type": "code",
   "execution_count": null,
   "id": "9bbeef74-2aa0-4458-858b-b3269f541f03",
   "metadata": {},
   "outputs": [],
   "source": [
    "#Show the result"
   ]
  },
  {
   "cell_type": "code",
   "execution_count": null,
   "id": "d7a8777f-446e-40bd-a55b-8f96571627f0",
   "metadata": {},
   "outputs": [
    {
     "name": "stdout",
     "output_type": "stream",
     "text": [
      "      CompFreq  CompTotal  NormalizedAnnualCompensation\n",
      "0       Yearly    61000.0                       61000.0\n",
      "1       Yearly   138000.0                      138000.0\n",
      "2       Yearly    90000.0                       90000.0\n",
      "3      Monthly    29000.0                      348000.0\n",
      "4       Yearly    90000.0                       90000.0\n",
      "...        ...        ...                           ...\n",
      "11547   Yearly   130000.0                      130000.0\n",
      "11548   Yearly    74400.0                       74400.0\n",
      "11549   Yearly   105000.0                      105000.0\n",
      "11550   Yearly    80000.0                       80000.0\n",
      "11551      NaN        NaN                           NaN\n",
      "\n",
      "[11552 rows x 3 columns]\n"
     ]
    }
   ],
   "source": [
    "print(df[['CompFreq', 'CompTotal', 'NormalizedAnnualCompensation']])"
   ]
  }
 ],
 "metadata": {
  "language_info": {
   "codemirror_mode": {
    "name": "ipython",
    "version": 3
   },
   "file_extension": ".py",
   "mimetype": "text/x-python",
   "name": "python",
   "nbconvert_exporter": "python",
   "pygments_lexer": "ipython3",
   "version": 3
  }
 },
 "nbformat": 4,
 "nbformat_minor": 2
}
